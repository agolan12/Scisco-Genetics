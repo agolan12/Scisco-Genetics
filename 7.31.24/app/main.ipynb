{
 "cells": [
  {
   "cell_type": "code",
   "execution_count": null,
   "metadata": {},
   "outputs": [],
   "source": [
    "import os\n",
    "# replace #ex_ with exon\n",
    "# replac - with _\n",
    "\n",
    "def normalize_name(name):\n",
    "    return name.replace('EX_', 'exon').replace('-', '_')\n",
    "\n",
    "def log_list(log_path):\n",
    "    output = set()\n",
    "    for dir in sorted(os.listdir(log_path)):\n",
    "        print(dir)\n",
    "        count = 0\n",
    "        for file in sorted(os.listdir(f'{log_path}/{dir}')):\n",
    "            print(file)\n",
    "            print(normalize_name(file))\n",
    "        print(count)\n",
    "log_list('/Users/assafgolan/Projects/Scisco-Genetics/7.31.24/logs/')"
   ]
  },
  {
   "cell_type": "code",
   "execution_count": 1,
   "metadata": {},
   "outputs": [
    {
     "ename": "TclError",
     "evalue": "invalid command name \".!text\"",
     "output_type": "error",
     "traceback": [
      "\u001b[0;31m---------------------------------------------------------------------------\u001b[0m",
      "\u001b[0;31mTclError\u001b[0m                                  Traceback (most recent call last)",
      "Cell \u001b[0;32mIn[1], line 3\u001b[0m\n\u001b[1;32m      1\u001b[0m \u001b[38;5;28;01mfrom\u001b[39;00m \u001b[38;5;21;01mchatgpt\u001b[39;00m \u001b[38;5;28;01mimport\u001b[39;00m find\n\u001b[0;32m----> 3\u001b[0m \u001b[43mfind\u001b[49m\u001b[43m(\u001b[49m\u001b[43m)\u001b[49m\n",
      "File \u001b[0;32m~/Projects/Scisco-Genetics/7.31.24/app/chatgpt.py:40\u001b[0m, in \u001b[0;36mfind\u001b[0;34m()\u001b[0m\n\u001b[1;32m     37\u001b[0m \u001b[38;5;28;01mdef\u001b[39;00m \u001b[38;5;21mfind\u001b[39m():\n\u001b[1;32m     38\u001b[0m \t\n\u001b[1;32m     39\u001b[0m \t\u001b[38;5;66;03m#remove tag 'found' from index 1 to END\u001b[39;00m\n\u001b[0;32m---> 40\u001b[0m \t\u001b[43mtext\u001b[49m\u001b[38;5;241;43m.\u001b[39;49m\u001b[43mtag_remove\u001b[49m\u001b[43m(\u001b[49m\u001b[38;5;124;43m'\u001b[39;49m\u001b[38;5;124;43mfound\u001b[39;49m\u001b[38;5;124;43m'\u001b[39;49m\u001b[43m,\u001b[49m\u001b[43m \u001b[49m\u001b[38;5;124;43m'\u001b[39;49m\u001b[38;5;124;43m1.0\u001b[39;49m\u001b[38;5;124;43m'\u001b[39;49m\u001b[43m,\u001b[49m\u001b[43m \u001b[49m\u001b[43mEND\u001b[49m\u001b[43m)\u001b[49m \n\u001b[1;32m     42\u001b[0m \t\u001b[38;5;66;03m#returns to widget currently in focus\u001b[39;00m\n\u001b[1;32m     43\u001b[0m \ts \u001b[38;5;241m=\u001b[39m edit\u001b[38;5;241m.\u001b[39mget() \n",
      "File \u001b[0;32m/Library/Frameworks/Python.framework/Versions/3.12/lib/python3.12/tkinter/__init__.py:4006\u001b[0m, in \u001b[0;36mText.tag_remove\u001b[0;34m(self, tagName, index1, index2)\u001b[0m\n\u001b[1;32m   4004\u001b[0m \u001b[38;5;28;01mdef\u001b[39;00m \u001b[38;5;21mtag_remove\u001b[39m(\u001b[38;5;28mself\u001b[39m, tagName, index1, index2\u001b[38;5;241m=\u001b[39m\u001b[38;5;28;01mNone\u001b[39;00m):\n\u001b[1;32m   4005\u001b[0m \u001b[38;5;250m    \u001b[39m\u001b[38;5;124;03m\"\"\"Remove tag TAGNAME from all characters between INDEX1 and INDEX2.\"\"\"\u001b[39;00m\n\u001b[0;32m-> 4006\u001b[0m     \u001b[38;5;28;43mself\u001b[39;49m\u001b[38;5;241;43m.\u001b[39;49m\u001b[43mtk\u001b[49m\u001b[38;5;241;43m.\u001b[39;49m\u001b[43mcall\u001b[49m\u001b[43m(\u001b[49m\n\u001b[1;32m   4007\u001b[0m \u001b[43m        \u001b[49m\u001b[38;5;28;43mself\u001b[39;49m\u001b[38;5;241;43m.\u001b[39;49m\u001b[43m_w\u001b[49m\u001b[43m,\u001b[49m\u001b[43m \u001b[49m\u001b[38;5;124;43m'\u001b[39;49m\u001b[38;5;124;43mtag\u001b[39;49m\u001b[38;5;124;43m'\u001b[39;49m\u001b[43m,\u001b[49m\u001b[43m \u001b[49m\u001b[38;5;124;43m'\u001b[39;49m\u001b[38;5;124;43mremove\u001b[39;49m\u001b[38;5;124;43m'\u001b[39;49m\u001b[43m,\u001b[49m\u001b[43m \u001b[49m\u001b[43mtagName\u001b[49m\u001b[43m,\u001b[49m\u001b[43m \u001b[49m\u001b[43mindex1\u001b[49m\u001b[43m,\u001b[49m\u001b[43m \u001b[49m\u001b[43mindex2\u001b[49m\u001b[43m)\u001b[49m\n",
      "\u001b[0;31mTclError\u001b[0m: invalid command name \".!text\""
     ]
    }
   ],
   "source": [
    "from chatgpt import find\n",
    "\n",
    "find()"
   ]
  }
 ],
 "metadata": {
  "kernelspec": {
   "display_name": "Python 3",
   "language": "python",
   "name": "python3"
  },
  "language_info": {
   "codemirror_mode": {
    "name": "ipython",
    "version": 3
   },
   "file_extension": ".py",
   "mimetype": "text/x-python",
   "name": "python",
   "nbconvert_exporter": "python",
   "pygments_lexer": "ipython3",
   "version": "3.12.4"
  }
 },
 "nbformat": 4,
 "nbformat_minor": 2
}
