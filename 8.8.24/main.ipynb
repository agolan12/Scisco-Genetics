{
 "cells": [
  {
   "cell_type": "code",
   "execution_count": 1,
   "metadata": {},
   "outputs": [],
   "source": [
    "import os\n",
    "from parse_sam import *\n",
    "sam_file_path = '/Users/assafgolan/Projects/Scisco-Genetics/8.8.24/'\n",
    "sam_file = os.path.join(sam_file_path, 'aligned_reads.sam')\n",
    "\n",
    "create_report(sam_file, 5)"
   ]
  },
  {
   "cell_type": "code",
   "execution_count": null,
   "metadata": {},
   "outputs": [],
   "source": [
    "import os\n",
    "from parse_sam import *\n",
    "sam_file_path = '/Users/assafgolan/Projects/Scisco-Genetics/8.8.24/'\n",
    "sam_file = os.path.join(sam_file_path, 'aligned_reads.sam')\n",
    "\n",
    "for line in open(sam_file, 'r'):\n",
    "    if line[0] != '@':\n",
    "        print(return_field(line, \"MAPQ\"))\n"
   ]
  },
  {
   "cell_type": "code",
   "execution_count": null,
   "metadata": {},
   "outputs": [],
   "source": [
    "import os\n",
    "from parse_sam import *\n",
    "sam_file_path = '/Users/assafgolan/Projects/Scisco-Genetics/8.8.24/'\n",
    "sam_file = os.path.join(sam_file_path, 'aligned_reads.sam')\n",
    "\n",
    "display_quality(sam_file)\n"
   ]
  }
 ],
 "metadata": {
  "kernelspec": {
   "display_name": "Python 3",
   "language": "python",
   "name": "python3"
  },
  "language_info": {
   "codemirror_mode": {
    "name": "ipython",
    "version": 3
   },
   "file_extension": ".py",
   "mimetype": "text/x-python",
   "name": "python",
   "nbconvert_exporter": "python",
   "pygments_lexer": "ipython3",
   "version": "3.12.4"
  }
 },
 "nbformat": 4,
 "nbformat_minor": 2
}
