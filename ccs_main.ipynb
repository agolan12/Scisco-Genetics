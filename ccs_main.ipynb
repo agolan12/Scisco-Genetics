{
 "cells": [
  {
   "cell_type": "code",
   "execution_count": null,
   "metadata": {},
   "outputs": [],
   "source": [
    "str = \"123\"\n",
    "\n",
    "str.isdigit()\n",
    "str += \"a\"\n",
    "\n",
    "str.isdigit()\n",
    "str[-1].isdigit()\n",
    "print(str[-1])"
   ]
  },
  {
   "cell_type": "code",
   "execution_count": 1,
   "metadata": {},
   "outputs": [
    {
     "ename": "KeyError",
     "evalue": "'A*02:06:01'",
     "output_type": "error",
     "traceback": [
      "\u001b[0;31m---------------------------------------------------------------------------\u001b[0m",
      "\u001b[0;31mKeyError\u001b[0m                                  Traceback (most recent call last)",
      "Cell \u001b[0;32mIn[1], line 41\u001b[0m\n\u001b[1;32m      1\u001b[0m \u001b[38;5;28;01mfrom\u001b[39;00m \u001b[38;5;21;01mclosest_coding_seq\u001b[39;00m \u001b[38;5;28;01mimport\u001b[39;00m find_closest_coding_seq\n\u001b[1;32m      4\u001b[0m allele_data \u001b[38;5;241m=\u001b[39m {\u001b[38;5;124m'\u001b[39m\u001b[38;5;124mA*02:05:03\u001b[39m\u001b[38;5;124m'\u001b[39m: \u001b[38;5;124m'\u001b[39m\u001b[38;5;124mab\u001b[39m\u001b[38;5;124m'\u001b[39m,\n\u001b[1;32m      5\u001b[0m \u001b[38;5;124m'\u001b[39m\u001b[38;5;124mA*02:05:04\u001b[39m\u001b[38;5;124m'\u001b[39m: \u001b[38;5;124m\"\u001b[39m\u001b[38;5;124ma\u001b[39m\u001b[38;5;124m\"\u001b[39m,\n\u001b[1;32m      6\u001b[0m \u001b[38;5;124m'\u001b[39m\u001b[38;5;124mA*02:05:05\u001b[39m\u001b[38;5;124m'\u001b[39m: \u001b[38;5;124m\"\u001b[39m\u001b[38;5;124m**\u001b[39m\u001b[38;5;124m\"\u001b[39m, \n\u001b[0;32m   (...)\u001b[0m\n\u001b[1;32m     38\u001b[0m \u001b[38;5;124m'\u001b[39m\u001b[38;5;124mA*02:07:07\u001b[39m\u001b[38;5;124m'\u001b[39m: \u001b[38;5;124m\"\u001b[39m\u001b[38;5;124m**\u001b[39m\u001b[38;5;124m\"\u001b[39m \n\u001b[1;32m     39\u001b[0m }\n\u001b[0;32m---> 41\u001b[0m \u001b[43mfind_closest_coding_seq\u001b[49m\u001b[43m(\u001b[49m\u001b[38;5;124;43m'\u001b[39;49m\u001b[38;5;124;43mA*02:07:07\u001b[39;49m\u001b[38;5;124;43m'\u001b[39;49m\u001b[43m,\u001b[49m\u001b[43m \u001b[49m\u001b[43mallele_data\u001b[49m\u001b[43m)\u001b[49m\n",
      "File \u001b[0;32m~/Scisco-Genetics/closest_coding_seq.py:5\u001b[0m, in \u001b[0;36mfind_closest_coding_seq\u001b[0;34m(allele_name, allele_data)\u001b[0m\n\u001b[1;32m      3\u001b[0m \u001b[38;5;28;01mwhile\u001b[39;00m (\u001b[38;5;124m'\u001b[39m\u001b[38;5;124m*\u001b[39m\u001b[38;5;124m'\u001b[39m \u001b[38;5;129;01min\u001b[39;00m sequence):\n\u001b[1;32m      4\u001b[0m     allele_name \u001b[38;5;241m=\u001b[39m update_name(allele_name, allele_data)\n\u001b[0;32m----> 5\u001b[0m     sequence \u001b[38;5;241m=\u001b[39m \u001b[43mallele_data\u001b[49m\u001b[43m[\u001b[49m\u001b[43mallele_name\u001b[49m\u001b[43m]\u001b[49m\n\u001b[1;32m      6\u001b[0m \u001b[38;5;28;01mreturn\u001b[39;00m {allele_name: sequence}\n",
      "\u001b[0;31mKeyError\u001b[0m: 'A*02:06:01'"
     ]
    }
   ],
   "source": [
    "from closest_coding_seq import find_closest_coding_seq\n",
    "\n",
    "\n",
    "allele_data = {'A*02:05:03': 'ab',\n",
    "'A*02:05:04': \"a\",\n",
    "'A*02:05:05': \"**\", \n",
    "'A*02:05:06':\"**\" ,\n",
    "'A*02:06:01:01': \"*,*\" ,\n",
    "'A*02:06:01:02':\"**\" ,\n",
    "'A*02:06:01:03': \"**\" ,\n",
    "'A*02:06:02': \"**\" ,\n",
    "'A*02:06:03': \"**\" ,\n",
    "'A*02:06:04': \"**\" ,\n",
    "'A*02:06:05': \"**\" ,\n",
    "'A*02:06:06': \"**\" ,\n",
    "'A*02:06:07': \"**\" ,\n",
    "'A*02:06:08': \"**\" ,\n",
    "'A*02:06:09': \"**\" ,\n",
    "'A*02:06:10': \"**\" ,\n",
    "'A*02:06:11': \"**\" ,\n",
    "'A*02:06:12': \"**\" ,\n",
    "'A*02:06:13': \"**\" ,\n",
    "'A*02:06:14': \"**\" ,\n",
    "'A*02:06:15': \"**\" ,\n",
    "'A*02:06:16': \"**\" ,\n",
    "'A*02:06:17': \"**\" ,\n",
    "'A*02:06:18': \"**\" ,\n",
    "'A*02:06:19': \"**\" ,\n",
    "'A*02:06:20': \"**\" ,\n",
    "'A*02:06:21': \"**\" ,\n",
    "'A*02:06:22': \"**\" ,\n",
    "'A*02:07:01': \"**\" ,\n",
    "'A*02:07:02': \"**\" ,\n",
    "'A*02:07:03': \"**\" ,\n",
    "'A*02:07:04': \"**\" ,\n",
    "'A*02:07:05': \"**\" ,\n",
    "'A*02:07:06': \"**\" ,\n",
    "'A*02:07:07': \"**\" \n",
    "}\n",
    "\n",
    "find_closest_coding_seq('A*02:07:07', allele_data)"
   ]
  },
  {
   "cell_type": "code",
   "execution_count": 2,
   "metadata": {},
   "outputs": [
    {
     "data": {
      "text/plain": [
       "-1"
      ]
     },
     "execution_count": 2,
     "metadata": {},
     "output_type": "execute_result"
    }
   ],
   "source": [
    "name = 'asdflkjasdf'\n",
    "name.rfind(\":\")\n"
   ]
  }
 ],
 "metadata": {
  "kernelspec": {
   "display_name": "Python 3",
   "language": "python",
   "name": "python3"
  },
  "language_info": {
   "codemirror_mode": {
    "name": "ipython",
    "version": 3
   },
   "file_extension": ".py",
   "mimetype": "text/x-python",
   "name": "python",
   "nbconvert_exporter": "python",
   "pygments_lexer": "ipython3",
   "version": "3.12.4"
  }
 },
 "nbformat": 4,
 "nbformat_minor": 2
}
