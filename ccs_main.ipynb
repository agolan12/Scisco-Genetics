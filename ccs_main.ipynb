{
 "cells": [
  {
   "cell_type": "code",
   "execution_count": null,
   "metadata": {},
   "outputs": [],
   "source": [
    "str = \"123\"\n",
    "\n",
    "str.isdigit()\n",
    "str += \"a\"\n",
    "\n",
    "str.isdigit()\n",
    "str[-1].isdigit()\n",
    "print(str[-1])"
   ]
  },
  {
   "cell_type": "code",
   "execution_count": 12,
   "metadata": {},
   "outputs": [
    {
     "data": {
      "text/plain": [
       "{'A*02:06:09N': 'a'}"
      ]
     },
     "execution_count": 12,
     "metadata": {},
     "output_type": "execute_result"
    }
   ],
   "source": [
    "from closest_coding_seq import find_closest_coding_seq\n",
    "\n",
    "\n",
    "allele_data = {'A*02:05:03': 'ab',\n",
    "'A*02:05:04': \"a\",\n",
    "'A*02:05:05': \"**\", \n",
    "'A*02:05:06':\"**\" ,\n",
    "'A*02:06:01:01': \"*,*\" ,\n",
    "'A*02:06:01:02':\"**\" ,\n",
    "'A*02:06:01:03': \"**\" ,\n",
    "'A*02:06:02': \"**\" ,\n",
    "'A*02:06:03': \"**\" ,\n",
    "'A*02:06:04': \"**\" ,\n",
    "'A*02:06:05': \"**\" ,\n",
    "'A*02:06:06N': \"a\" ,\n",
    "'A*02:06:07': \"**\" ,\n",
    "'A*02:06:08': \"**\" ,\n",
    "'A*02:06:09N': \"a\" ,\n",
    "'A*02:06:10': \"**\" ,\n",
    "'A*02:06:11': \"**\" ,\n",
    "'A*02:06:12': \"**\" ,\n",
    "'A*02:06:13': \"**\" ,\n",
    "'A*02:06:14': \"**\" ,\n",
    "'A*02:06:15': \"**\" ,\n",
    "'A*02:06:16': \"**\" ,\n",
    "'A*02:06:17': \"**\" ,\n",
    "'A*02:06:18': \"**\" ,\n",
    "'A*02:06:19': \"**\" ,\n",
    "'A*02:06:20': \"**\" ,\n",
    "'A*02:06:21': \"**\" ,\n",
    "'A*02:07:100': \"a\" ,\n",
    "'A*02:07:101': \"**\" ,\n",
    "'A*02:07:102': \"**\" ,\n",
    "'A*02:07:103': \"**\" ,\n",
    "'A*02:07:104': \"**\" ,\n",
    "'A*02:07:105': \"**\" ,\n",
    "'A*02:07:106': \"**\" ,\n",
    "'A*02:07:107': \"*\" \n",
    "}\n",
    "\n",
    "find_closest_coding_seq('A*02:07:07', allele_data)"
   ]
  },
  {
   "cell_type": "code",
   "execution_count": 2,
   "metadata": {},
   "outputs": [
    {
     "data": {
      "text/plain": [
       "-1"
      ]
     },
     "execution_count": 2,
     "metadata": {},
     "output_type": "execute_result"
    }
   ],
   "source": [
    "name = 'asdflkjasdf'\n",
    "name.rfind(\":\")\n"
   ]
  }
 ],
 "metadata": {
  "kernelspec": {
   "display_name": "Python 3",
   "language": "python",
   "name": "python3"
  },
  "language_info": {
   "codemirror_mode": {
    "name": "ipython",
    "version": 3
   },
   "file_extension": ".py",
   "mimetype": "text/x-python",
   "name": "python",
   "nbconvert_exporter": "python",
   "pygments_lexer": "ipython3",
   "version": "3.12.4"
  }
 },
 "nbformat": 4,
 "nbformat_minor": 2
}
