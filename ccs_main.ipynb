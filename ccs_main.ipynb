{
 "cells": [
  {
   "cell_type": "code",
   "execution_count": null,
   "metadata": {},
   "outputs": [],
   "source": [
    "str = \"123\"\n",
    "\n",
    "str.isdigit()\n",
    "str += \"a\"\n",
    "\n",
    "str.isdigit()\n",
    "str[-1].isdigit()\n",
    "print(str[-1])"
   ]
  },
  {
   "cell_type": "code",
   "execution_count": 2,
   "metadata": {},
   "outputs": [
    {
     "ename": "KeyError",
     "evalue": "None",
     "output_type": "error",
     "traceback": [
      "\u001b[0;31m---------------------------------------------------------------------------\u001b[0m",
      "\u001b[0;31mKeyError\u001b[0m                                  Traceback (most recent call last)",
      "Cell \u001b[0;32mIn[2], line 16\u001b[0m\n\u001b[1;32m      2\u001b[0m \u001b[38;5;28;01mfrom\u001b[39;00m \u001b[38;5;21;01mclosest_coding_seq\u001b[39;00m \u001b[38;5;28;01mimport\u001b[39;00m retry\n\u001b[1;32m      4\u001b[0m allele_data \u001b[38;5;241m=\u001b[39m {\u001b[38;5;124m'\u001b[39m\u001b[38;5;124mB*07:01:01:01\u001b[39m\u001b[38;5;124m'\u001b[39m: \u001b[38;5;124m'\u001b[39m\u001b[38;5;124mACGTCAGAATAGCAGGATACT...C.CCGTATA\u001b[39m\u001b[38;5;124m'\u001b[39m,\n\u001b[1;32m      5\u001b[0m \u001b[38;5;124m'\u001b[39m\u001b[38;5;124mB*52:03:93\u001b[39m\u001b[38;5;124m'\u001b[39m: \u001b[38;5;124m'\u001b[39m\u001b[38;5;124mACGTCAGAATAGCAGGATACT...C.CCGTATA\u001b[39m\u001b[38;5;124m'\u001b[39m,\n\u001b[1;32m      6\u001b[0m \u001b[38;5;124m'\u001b[39m\u001b[38;5;124mB*52:03:94\u001b[39m\u001b[38;5;124m'\u001b[39m: \u001b[38;5;124m'\u001b[39m\u001b[38;5;124mACGTCAGAATAGCAGGATACT...C.CCGTATA*\u001b[39m\u001b[38;5;124m'\u001b[39m,\n\u001b[0;32m   (...)\u001b[0m\n\u001b[1;32m     13\u001b[0m \u001b[38;5;124m'\u001b[39m\u001b[38;5;124mB*53:02:02:04\u001b[39m\u001b[38;5;124m'\u001b[39m: \u001b[38;5;124m'\u001b[39m\u001b[38;5;124m*********************...*.*******\u001b[39m\u001b[38;5;124m'\u001b[39m\n\u001b[1;32m     14\u001b[0m }\n\u001b[0;32m---> 16\u001b[0m \u001b[43mretry\u001b[49m\u001b[43m(\u001b[49m\u001b[38;5;124;43m'\u001b[39;49m\u001b[38;5;124;43mB*53:02:02:02\u001b[39;49m\u001b[38;5;124;43m'\u001b[39;49m\u001b[43m,\u001b[49m\u001b[43m \u001b[49m\u001b[43mallele_data\u001b[49m\u001b[43m)\u001b[49m\n",
      "File \u001b[0;32m~/Scisco-Genetics/closest_coding_seq.py:41\u001b[0m, in \u001b[0;36mretry\u001b[0;34m(allele_name, allele_data)\u001b[0m\n\u001b[1;32m     39\u001b[0m \u001b[38;5;28;01mwhile\u001b[39;00m (\u001b[38;5;124m'\u001b[39m\u001b[38;5;124m*\u001b[39m\u001b[38;5;124m'\u001b[39m \u001b[38;5;129;01min\u001b[39;00m sequence):\n\u001b[1;32m     40\u001b[0m     allele_name \u001b[38;5;241m=\u001b[39m update_name(allele_name, allele_data)\n\u001b[0;32m---> 41\u001b[0m     sequence \u001b[38;5;241m=\u001b[39m \u001b[43mallele_data\u001b[49m\u001b[43m[\u001b[49m\u001b[43mallele_name\u001b[49m\u001b[43m]\u001b[49m\n\u001b[1;32m     42\u001b[0m \u001b[38;5;28;01mreturn\u001b[39;00m {allele_name: sequence}\n",
      "\u001b[0;31mKeyError\u001b[0m: None"
     ]
    }
   ],
   "source": [
    "from closest_coding_seq import find_closest_coding_seq\n",
    "from closest_coding_seq import retry\n",
    "\n",
    "allele_data = {'B*07:01:01:01': 'ACGTCAGAATAGCAGGATACT...C.CCGTATA',\n",
    "'B*52:03:93': 'ACGTCAGAATAGCAGGATACT...C.CCGTATA',\n",
    "'B*52:03:94': 'ACGTCAGAATAGCAGGATACT...C.CCGTATA*',\n",
    "'B*52:03:95': 'ACGTCAGAATAGCAGGATACT...G.CCGTATA*',\n",
    "'B*53:01:01:01': 'ACGTCAGAATAGCAGGATACT...C.*******',\n",
    "'B*53:02:01:01': 'ACGTCAGAATAGCAGGATACT...C.*******',\n",
    "'B*53:02:02:01': 'ACGTCAGAATAGCAGGATACT...C.*******',\n",
    "'B*53:02:02:02': 'ACGTCAGAATAGCAGGATACT...C.*******',\n",
    "'B*53:02:02:03': 'ACGTCAGAATAGCAGGATACT...*.*******',\n",
    "'B*53:02:02:04': '*********************...*.*******'\n",
    "}\n",
    "\n",
    "retry('B*53:02:02:02', allele_data)"
   ]
  }
 ],
 "metadata": {
  "kernelspec": {
   "display_name": "Python 3",
   "language": "python",
   "name": "python3"
  },
  "language_info": {
   "codemirror_mode": {
    "name": "ipython",
    "version": 3
   },
   "file_extension": ".py",
   "mimetype": "text/x-python",
   "name": "python",
   "nbconvert_exporter": "python",
   "pygments_lexer": "ipython3",
   "version": "3.12.4"
  }
 },
 "nbformat": 4,
 "nbformat_minor": 2
}
