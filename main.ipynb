{
 "cells": [
  {
   "cell_type": "code",
   "execution_count": 1,
   "metadata": {},
   "outputs": [
    {
     "ename": "ImportError",
     "evalue": "cannot import name 'file_diff' from 'create_report' (/Users/assafgolan/Projects/Scisco-Genetics/create_report.py)",
     "output_type": "error",
     "traceback": [
      "\u001b[0;31m---------------------------------------------------------------------------\u001b[0m",
      "\u001b[0;31mImportError\u001b[0m                               Traceback (most recent call last)",
      "Cell \u001b[0;32mIn[1], line 5\u001b[0m\n\u001b[1;32m      3\u001b[0m \u001b[38;5;28;01mfrom\u001b[39;00m \u001b[38;5;21;01mcreate_report\u001b[39;00m \u001b[38;5;28;01mimport\u001b[39;00m directory_diff\n\u001b[1;32m      4\u001b[0m \u001b[38;5;28;01mfrom\u001b[39;00m \u001b[38;5;21;01mcreate_report\u001b[39;00m \u001b[38;5;28;01mimport\u001b[39;00m directory_intersection\n\u001b[0;32m----> 5\u001b[0m \u001b[38;5;28;01mfrom\u001b[39;00m \u001b[38;5;21;01mcreate_report\u001b[39;00m \u001b[38;5;28;01mimport\u001b[39;00m file_diff\n\u001b[1;32m      6\u001b[0m \u001b[38;5;28;01mfrom\u001b[39;00m \u001b[38;5;21;01mcreate_report\u001b[39;00m \u001b[38;5;28;01mimport\u001b[39;00m same_file\n\u001b[1;32m      8\u001b[0m \u001b[38;5;28mprint\u001b[39m(\u001b[38;5;124m'\u001b[39m\u001b[38;5;124mdifferences: \u001b[39m\u001b[38;5;124m'\u001b[39m)\n",
      "\u001b[0;31mImportError\u001b[0m: cannot import name 'file_diff' from 'create_report' (/Users/assafgolan/Projects/Scisco-Genetics/create_report.py)"
     ]
    }
   ],
   "source": [
    "import os\n",
    "\n",
    "from create_report import directory_diff\n",
    "from create_report import directory_intersection\n",
    "from create_report import file_diff\n",
    "from create_report import same_file\n",
    "\n",
    "print('differences: ')\n",
    "print(directory_diff('/Users/Assaf/IMGTHLA/fasta', 'fasta_copy'))\n",
    "print('intersection: ')\n",
    "directory_intersection('/Users/Assaf/IMGTHLA/fasta', 'fasta_copy')\n",
    "\n",
    "for file in directory_intersection('/Users/Assaf/IMGTHLA/fasta', 'fasta_copy'):\n",
    "    if (not same_file(f'/Users/Assaf/IMGTHLA/fasta/{file}', f'fasta_copy/{file}')):\n",
    "        print(file)\n",
    "        file_diff(f'/Users/Assaf/IMGTHLA/fasta/{file}', f'fasta_copy/{file}')\n",
    "\n"
   ]
  },
  {
   "cell_type": "markdown",
   "metadata": {},
   "source": [
    "Create Reports "
   ]
  },
  {
   "cell_type": "code",
   "execution_count": null,
   "metadata": {},
   "outputs": [],
   "source": [
    "from create_report import allele_dict\n",
    "from create_report import allele_diff\n",
    "from create_report import allele_intersection\n",
    "from create_report import allele_comparison\n",
    "allele_comparison('7.17.24_test/hla_gen_3560.fasta', '7.17.24_test/hla_gen_3550.fasta', 'gen_report_file.txt')\n",
    "allele_comparison('7.17.24_test/hla_nuc_3560.fasta', '7.17.24_test/hla_nuc_3550.fasta', 'nuc_report_file.txt')\n",
    "allele_comparison('7.17.24_test/hla_prot_3560.fasta', '7.17.24_test/hla_prot_3550.fasta', 'prot_report_file.txt')\n"
   ]
  },
  {
   "cell_type": "markdown",
   "metadata": {},
   "source": [
    "Compare Reports"
   ]
  },
  {
   "cell_type": "code",
   "execution_count": null,
   "metadata": {},
   "outputs": [],
   "source": [
    "from compare_reports import compare_reports\n",
    "from compare_reports import create_dict\n",
    "good, bad, missing_imgt, missing_scisco = compare_reports('gen_report_file.txt', 'nuc_report_file.txt', '/Users/Assaf/IMGTHLA/version_report.txt')\n",
    "total_len = len(good) + len(bad) + len(missing_imgt) + len(missing_scisco)\n",
    "gen_dict = create_dict('gen_report_file.txt')\n",
    "nuc_dict = create_dict('nuc_report_file.txt')\n",
    "scisco_dict = gen_dict | nuc_dict\n",
    "imgt_dict = create_dict('/Users/Assaf/IMGTHLA/version_report.txt')\n",
    "with open ('report_comparison.txt', 'w') as f:\n",
    "    f.write('correct: \\n')\n",
    "    f.write (f'{100 *(len(good) / total_len)} %\\n')\n",
    "    f.write(f'{len(good)}\\n')\n",
    "    f.write(\"mismatch values (i.e. Scisco says new, imgt says modified):\\n \")\n",
    "    f.write (f'{100 *(len(bad) / total_len)} %\\n')\n",
    "    f.write(f'{len(bad)}\\n')\n",
    "    f.write(\"missing from imgt: \\n\")\n",
    "    f.write(f'{100*(len(missing_imgt) / total_len)} %\\n')\n",
    "    f.write(f'{len(missing_imgt)}\\n')\n",
    "    f.write(\"missing from scisco: \\n\")\n",
    "    f.write(f'{100 * len(missing_scisco) / total_len}%\\n')\n",
    "    f.write(f'{len(missing_scisco)}\\n')\n",
    "    f.write('\\n\\n\\n Comparing mismatched values: \\n')\n",
    "    f.write(f'name:\\t\\t\\t\\tScisco:\\t\\t\\timgt:\\n')\n",
    "    for key in bad:\n",
    "        f.write(f'{key}:\\t\\t\\t{scisco_dict[key]}\\t\\t\\t{imgt_dict[key]} \\n')\n",
    "    f.write('\\n\\n\\n Missing from IMGT: \\n')\n",
    "    for key in sorted(missing_imgt):\n",
    "        f.write(f'{key}:\\t\\t{scisco_dict[key]}\\n')\n",
    "    f.write('\\n\\n\\n Missing from Scisco: \\n')\n",
    "    for key in missing_scisco:\n",
    "        f.write(f'{key}:\\t\\t{imgt_dict[key]}\\n')\n",
    "\n",
    "    \n",
    "    "
   ]
  },
  {
   "cell_type": "markdown",
   "metadata": {},
   "source": [
    "Method for document comparison:"
   ]
  },
  {
   "cell_type": "code",
   "execution_count": null,
   "metadata": {},
   "outputs": [],
   "source": [
    "from compare_reports import write_comparison\n",
    "write_comparison('gen_report_file.txt', 'nuc_report_file.txt', '/Users/Assaf/IMGTHLA/version_report.txt', 'report_comparison.txt')"
   ]
  },
  {
   "cell_type": "markdown",
   "metadata": {},
   "source": [
    "Method for describing modifications to sequences:"
   ]
  },
  {
   "cell_type": "code",
   "execution_count": 1,
   "metadata": {},
   "outputs": [],
   "source": [
    "\n",
    "from create_report import allele_comparison\n",
    "from create_report import allele_dict\n",
    "from compare_reports import write_comparison\n",
    "allele_comparison('/Users/assafgolan/Projects/7.22.24_test/hla_gen_3560.fasta', '/Users/assafgolan/Projects/7.22.24_test/hla_gen_3550.fasta', 'gen_report_file.txt')\n",
    "allele_comparison('/Users/assafgolan/Projects/7.22.24_test/hla_nuc_3560.fasta', '/Users/assafgolan/Projects/7.22.24_test/hla_nuc_3550.fasta', 'nuc_report_file.txt')\n",
    "write_comparison('gen_report_file.txt', 'nuc_report_file.txt', '3560_version_report.txt', 'output_file.txt')\n"
   ]
  },
  {
   "cell_type": "markdown",
   "metadata": {},
   "source": [
    "Modification Log:"
   ]
  },
  {
   "cell_type": "code",
   "execution_count": 3,
   "metadata": {},
   "outputs": [],
   "source": [
    "from describe_modifications import modification_log\n",
    "from create_report import allele_dict\n",
    "dict1 = allele_dict('/Users/assafgolan/Projects/7.22.24_test/hla_gen_3550.fasta')\n",
    "dict2 = allele_dict('/Users/assafgolan/Projects/7.22.24_test/hla_gen_3560.fasta')\n",
    "modification_log(dict1, dict2, 'gen_report_file.txt', 'mod_log.txt')"
   ]
  }
 ],
 "metadata": {
  "kernelspec": {
   "display_name": "Python 3",
   "language": "python",
   "name": "python3"
  },
  "language_info": {
   "codemirror_mode": {
    "name": "ipython",
    "version": 3
   },
   "file_extension": ".py",
   "mimetype": "text/x-python",
   "name": "python",
   "nbconvert_exporter": "python",
   "pygments_lexer": "ipython3",
   "version": "3.12.4"
  }
 },
 "nbformat": 4,
 "nbformat_minor": 2
}
