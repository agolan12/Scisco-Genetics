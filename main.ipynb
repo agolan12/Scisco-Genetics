{
 "cells": [
  {
   "cell_type": "code",
   "execution_count": null,
   "metadata": {},
   "outputs": [],
   "source": [
    "import os\n",
    "\n",
    "from file_reader import directory_diff\n",
    "from file_reader import directory_intersection\n",
    "from file_reader import file_diff\n",
    "from file_reader import same_file\n",
    "\n",
    "print('differences: ')\n",
    "print(directory_diff('/Users/Assaf/IMGTHLA/fasta', 'fasta_copy'))\n",
    "print('intersection: ')\n",
    "directory_intersection('/Users/Assaf/IMGTHLA/fasta', 'fasta_copy')\n",
    "\n",
    "for file in directory_intersection('/Users/Assaf/IMGTHLA/fasta', 'fasta_copy'):\n",
    "    if (not same_file(f'/Users/Assaf/IMGTHLA/fasta/{file}', f'fasta_copy/{file}')):\n",
    "        print(file)\n",
    "        file_diff(f'/Users/Assaf/IMGTHLA/fasta/{file}', f'fasta_copy/{file}')\n",
    "\n"
   ]
  },
  {
   "cell_type": "markdown",
   "metadata": {},
   "source": [
    "Compare files:"
   ]
  },
  {
   "cell_type": "code",
   "execution_count": null,
   "metadata": {},
   "outputs": [],
   "source": [
    "from file_reader import directory_diff\n",
    "\n",
    "directory_diff('/Users/Assaf/IMGTHLA/fasta', 'fasta_copy')\n"
   ]
  },
  {
   "cell_type": "code",
   "execution_count": 1,
   "metadata": {},
   "outputs": [
    {
     "name": "stdout",
     "output_type": "stream",
     "text": [
      "allele differences: \n",
      "(['DPA1*01:03:01:09', 'DPA1*01:03:01:10', 'DPA1*01:03:01:11', 'DPA1*01:03:01:12', 'DPA1*01:03:01:13', 'DPA1*01:03:01:14', 'DPA1*01:03:01:15', 'DPA1*01:03:01:16', 'DPA1*01:03:01:17', 'DPA1*01:03:01:18Q', 'DPA1*01:03:01:19', 'DPA1*01:03:01:20', 'DPA1*01:03:01:21', 'DPA1*01:03:01:22', 'DPA1*01:03:01:23', 'DPA1*01:03:01:24', 'DPA1*01:03:01:25', 'DPA1*01:03:01:26', 'DPA1*01:03:01:27', 'DPA1*01:03:01:28', 'DPA1*01:03:01:29', 'DPA1*01:03:01:30', 'DPA1*01:03:01:31', 'DPA1*01:03:01:32', 'DPA1*01:03:01:33', 'DPA1*01:03:01:34', 'DPA1*01:03:01:35', 'DPA1*01:03:01:36', 'DPA1*01:03:01:37', 'DPA1*01:03:01:38', 'DPA1*01:03:01:39', 'DPA1*01:03:01:40', 'DPA1*01:03:01:41', 'DPA1*01:03:01:42', 'DPA1*01:03:01:43', 'DPA1*01:03:01:44', 'DPA1*01:03:01:45', 'DPA1*01:03:01:46', 'DPA1*01:03:01:47', 'DPA1*01:03:01:48', 'DPA1*01:03:01:49', 'DPA1*01:03:01:50', 'DPA1*01:03:01:51', 'DPA1*01:03:01:52', 'DPA1*01:03:01:53', 'DPA1*01:03:01:54', 'DPA1*01:03:01:55', 'DPA1*01:03:01:56', 'DPA1*01:03:01:57', 'DPA1*01:03:01:58', 'DPA1*01:03:01:59', 'DPA1*01:03:01:60', 'DPA1*01:03:01:61', 'DPA1*01:03:01:62', 'DPA1*01:03:01:63', 'DPA1*01:03:01:64', 'DPA1*01:03:01:65', 'DPA1*01:03:01:66', 'DPA1*01:03:01:67', 'DPA1*01:03:01:68', 'DPA1*01:03:01:69', 'DPA1*01:03:01:70', 'DPA1*01:03:01:71', 'DPA1*01:03:01:72', 'DPA1*01:03:01:73', 'DPA1*01:03:01:74', 'DPA1*01:03:01:75', 'DPA1*01:03:01:76', 'DPA1*01:03:01:77', 'DPA1*01:03:01:78', 'DPA1*01:03:01:79', 'DPA1*01:03:01:80', 'DPA1*01:03:01:81', 'DPA1*01:03:01:82', 'DPA1*01:03:01:83', 'DPA1*01:03:01:84', 'DPA1*01:03:01:85', 'DPA1*01:03:01:86', 'DPA1*01:03:01:87', 'DPA1*01:03:01:88', 'DPA1*01:03:01:89', 'DPA1*01:03:01:90', 'DPA1*01:03:04', 'DPA1*01:03:07', 'DPA1*01:03:08', 'DPA1*01:03:10', 'DPA1*01:03:11', 'DPA1*01:03:14', 'DPA1*01:03:17', 'DPA1*01:03:19', 'DPA1*01:03:24', 'DPA1*01:03:25', 'DPA1*01:03:27', 'DPA1*01:03:31', 'DPA1*01:03:32', 'DPA1*01:03:34', 'DPA1*01:03:38:01', 'DPA1*01:03:38:02', 'DPA1*01:03:39', 'DPA1*01:03:41', 'DPA1*01:03:42', 'DPA1*01:03:43', 'DPA1*01:03:44', 'DPA1*01:03:45', 'DPA1*01:03:46', 'DPA1*01:03:48', 'DPA1*01:03:49', 'DPA1*01:03:50', 'DPA1*01:03:52', 'DPA1*01:03:53', 'DPA1*01:03:54', 'DPA1*01:03:55', 'DPA1*01:03:56', 'DPA1*01:03:57', 'DPA1*01:04:01', 'DPA1*01:04:04', 'DPA1*01:06:01', 'DPA1*01:06:02', 'DPA1*01:06:04', 'DPA1*01:06:05', 'DPA1*01:101', 'DPA1*01:102', 'DPA1*01:104', 'DPA1*01:105', 'DPA1*01:106', 'DPA1*01:107:01:01', 'DPA1*01:107:01:02', 'DPA1*01:108', 'DPA1*01:115', 'DPA1*01:11:02', 'DPA1*01:125', 'DPA1*01:127', 'DPA1*01:128:01:01', 'DPA1*01:128:01:02', 'DPA1*01:129', 'DPA1*01:12:01', 'DPA1*01:134', 'DPA1*01:136', 'DPA1*01:137N', 'DPA1*01:141', 'DPA1*01:142', 'DPA1*01:144', 'DPA1*01:148', 'DPA1*01:150', 'DPA1*01:151', 'DPA1*01:152', 'DPA1*01:153', 'DPA1*01:155:01:01', 'DPA1*01:155:01:02', 'DPA1*01:156', 'DPA1*01:163Q', 'DPA1*01:164', 'DPA1*01:165', 'DPA1*01:166', 'DPA1*01:167', 'DPA1*01:168N', 'DPA1*01:169', 'DPA1*01:170', 'DPA1*01:18', 'DPA1*01:180', 'DPA1*01:183', 'DPA1*01:19', 'DPA1*01:191', 'DPA1*01:192', 'DPA1*01:193', 'DPA1*01:194', 'DPA1*01:196', 'DPA1*01:199', 'DPA1*01:27', 'DPA1*01:29N', 'DPA1*01:30', 'DPA1*01:31', 'DPA1*01:33:02', 'DPA1*01:42:01:01', 'DPA1*01:42:01:02', 'DPA1*01:44', 'DPA1*01:48', 'DPA1*01:54', 'DPA1*01:55N', 'DPA1*01:58:01:01', 'DPA1*01:58:01:02', 'DPA1*01:62', 'DPA1*01:77:01:01', 'DPA1*01:77:01:02', 'DPA1*01:87Q', 'DPA1*01:91', 'DPA1*01:96', 'DPA1*02:01:01:04', 'DPA1*02:01:01:06', 'DPA1*02:01:01:07', 'DPA1*02:01:01:08', 'DPA1*02:01:01:09', 'DPA1*02:01:01:10', 'DPA1*02:01:01:11', 'DPA1*02:01:01:12', 'DPA1*02:01:01:13', 'DPA1*02:01:01:14', 'DPA1*02:01:01:15', 'DPA1*02:01:01:16', 'DPA1*02:01:01:17', 'DPA1*02:01:01:18', 'DPA1*02:01:01:19', 'DPA1*02:01:01:20', 'DPA1*02:01:01:21', 'DPA1*02:01:01:22', 'DPA1*02:01:01:23', 'DPA1*02:01:01:24', 'DPA1*02:01:01:25', 'DPA1*02:01:01:26', 'DPA1*02:01:01:27', 'DPA1*02:01:01:28', 'DPA1*02:01:01:29', 'DPA1*02:01:01:30', 'DPA1*02:01:01:31', 'DPA1*02:01:01:32', 'DPA1*02:01:01:33', 'DPA1*02:01:01:34', 'DPA1*02:01:02:01', 'DPA1*02:01:02:02', 'DPA1*02:01:02:03', 'DPA1*02:01:04', 'DPA1*02:01:07', 'DPA1*02:01:08:01', 'DPA1*02:01:08:02', 'DPA1*02:01:08:03', 'DPA1*02:01:08:04', 'DPA1*02:01:08:05', 'DPA1*02:01:08:06', 'DPA1*02:01:10', 'DPA1*02:01:18', 'DPA1*02:01:19', 'DPA1*02:01:20', 'DPA1*02:01:22', 'DPA1*02:01:23', 'DPA1*02:01:25', 'DPA1*02:01:26', 'DPA1*02:01:27', 'DPA1*02:01:28', 'DPA1*02:01:31', 'DPA1*02:02:02:04', 'DPA1*02:02:02:05', 'DPA1*02:02:02:07', 'DPA1*02:02:02:08', 'DPA1*02:02:02:09', 'DPA1*02:02:02:10', 'DPA1*02:02:02:11', 'DPA1*02:02:02:12', 'DPA1*02:02:02:13', 'DPA1*02:02:02:14', 'DPA1*02:02:02:15', 'DPA1*02:02:02:16', 'DPA1*02:02:02:17Q', 'DPA1*02:02:08', 'DPA1*02:02:10', 'DPA1*02:02:12', 'DPA1*02:02:13', 'DPA1*02:03:05', 'DPA1*02:07:01:04', 'DPA1*02:07:02', 'DPA1*02:07:03', 'DPA1*02:07:04', 'DPA1*02:09:01:01', 'DPA1*02:09:01:02', 'DPA1*02:09:01:03', 'DPA1*02:09:01:04', 'DPA1*02:10', 'DPA1*02:101:01', 'DPA1*02:101:02', 'DPA1*02:102Q', 'DPA1*02:109', 'DPA1*02:110:02', 'DPA1*02:111', 'DPA1*02:112', 'DPA1*02:113', 'DPA1*02:116', 'DPA1*02:119', 'DPA1*02:120', 'DPA1*02:121', 'DPA1*02:124', 'DPA1*02:125', 'DPA1*02:127', 'DPA1*02:128', 'DPA1*02:129', 'DPA1*02:12:01', 'DPA1*02:130', 'DPA1*02:14', 'DPA1*02:16', 'DPA1*02:17', 'DPA1*02:20', 'DPA1*02:26:01:01', 'DPA1*02:26:01:02', 'DPA1*02:28:02', 'DPA1*02:29', 'DPA1*02:30', 'DPA1*02:31', 'DPA1*02:32N', 'DPA1*02:33', 'DPA1*02:34:01:01', 'DPA1*02:34:01:02', 'DPA1*02:37', 'DPA1*02:38Q', 'DPA1*02:42', 'DPA1*02:46', 'DPA1*02:48', 'DPA1*02:49', 'DPA1*02:54', 'DPA1*02:55', 'DPA1*02:57', 'DPA1*02:59:01', 'DPA1*02:66:02N', 'DPA1*02:69:02', 'DPA1*02:71', 'DPA1*02:72', 'DPA1*02:74N', 'DPA1*02:81', 'DPA1*02:82', 'DPA1*02:83', 'DPA1*02:84', 'DPA1*02:87', 'DPA1*02:89', 'DPA1*02:92', 'DPA1*02:93', 'DPA1*02:96', 'DPA1*02:97', 'DPA1*03:01:01:01', 'DPA1*03:01:01:02', 'DPA1*03:01:01:03', 'DPA1*03:01:01:04', 'DPA1*03:01:01:05', 'DPA1*03:01:01:06', 'DPA1*03:01:01:07', 'DPA1*03:01:01:08', 'DPA1*03:01:01:09', 'DPA1*03:01:01:10', 'DPA1*03:01:01:11', 'DPA1*03:01:01:12', 'DPA1*03:01:01:13', 'DPA1*03:01:01:14', 'DPA1*03:01:01:15', 'DPA1*03:01:02:01', 'DPA1*03:01:02:02', 'DPA1*03:01:02:03', 'DPA1*03:01:02:04', 'DPA1*03:04', 'DPA1*03:05:01:01Q', 'DPA1*03:05:01:02Q', 'DPA1*03:05:02Q', 'DPA1*03:08', 'DPA1*03:13', 'DPA1*03:17', 'DPA1*03:18', 'DPA1*04:01:01:01', 'DPA1*04:01:01:02', 'DPA1*04:01:01:03', 'DPA1*04:02:01:01', 'DPA1*04:02:01:02', 'DPA1*04:03', 'DPA1*04:04', 'DPA1*04:06'], ['DPA1*02:01:02', 'DPA1*02:01:08', 'DPA1*02:09', 'DPA1*03:01:01', 'DPA1*03:01:02', 'DPA1*04:01', 'DPA1*04:02'])\n",
      "allele intersection: \n",
      "['DPA1*01:03:01:01', 'DPA1*01:03:01:02', 'DPA1*01:03:01:03', 'DPA1*01:03:01:04', 'DPA1*01:03:01:05', 'DPA1*01:03:01:06', 'DPA1*01:03:01:07', 'DPA1*01:03:01:08', 'DPA1*01:03:05', 'DPA1*01:14', 'DPA1*02:01:01:01', 'DPA1*02:01:01:02', 'DPA1*02:01:01:03', 'DPA1*02:02:02:01', 'DPA1*02:02:02:02', 'DPA1*02:02:02:03', 'DPA1*02:06', 'DPA1*02:07:01:01', 'DPA1*02:07:01:02', 'DPA1*02:07:01:03', 'DPA1*02:08']\n"
     ]
    }
   ],
   "source": [
    "from file_reader import allele_dict\n",
    "from file_reader import allele_diff\n",
    "from file_reader import allele_intersection\n",
    "from file_reader import allele_comparison\n",
    "import file_reader\n",
    "print('allele differences: ')\n",
    "print(allele_diff('fasta_copy/DPA1_gen.fasta', '/Users/Assaf/IMGTHLA/fasta/DPA1_gen.fasta'))\n",
    "dict2 = allele_dict('fasta_copy/DPA1_gen.fasta')\n",
    "dict1 = allele_dict('/Users/Assaf/IMGTHLA/fasta/DPA1_gen.fasta')\n",
    "print('allele intersection: ')\n",
    "print(allele_intersection(dict1, dict2))\n",
    "allele_comparison('fasta_copy/hla_gen.fasta', '/Users/Assaf/IMGTHLA/fasta/hla_gen.fasta')\n"
   ]
  },
  {
   "cell_type": "code",
   "execution_count": 2,
   "metadata": {},
   "outputs": [
    {
     "name": "stdout",
     "output_type": "stream",
     "text": [
      ">\n",
      "MSWKKSLRIPGDLRVATVTLMLAILSSSLAEGRDSPEDFVYQFKGLCYFTNGTERVRGVTRHIYNREEYVRFDSDVGVYRAVTPQGRPVAEYWNSQKEVLEGARASVDRVCRHNYEVAYRGILQRRVEPTVTISPSRTEALNHHNLLICSVTDFYPSQIKVRWFRNDQEETAGVVSTPLIRNGDWTFQILVMLEMTPQRGDV\n",
      ">\n",
      "-SWKKSLRIPGDLRVATVTLMLAILSSSLAEGRDSP--FVYQFKGLCYFTNGTERVRGVTRHIYNREEYVRFDSDVGVYRAVTPQGRPVAEYWNSQKEVLEGARASVDRVCRHNYEVAYRGILQRRVEPTVTISPSRTEALNHHNLLICSVTDFYPS---VRWFRNDQEETAGVVSTPLI-NGDWTFQILVMLEMTPQR---\n",
      "\n",
      "1D35M2D119M3D20M1D18M3D\n"
     ]
    }
   ],
   "source": [
    "from Bio import Align\n",
    "from file_reader import generate_cigar\n",
    "\n",
    "alignments = Align.PairwiseAligner().align(\"MSWKKSLRIPGDLRVATVTLMLAILSSSLAEGRDSPEDFVYQFKGLCYFTNGTERVRGVTRHIYNREEYVRFDSDVGVYRAVTPQGRPVAEYWNSQKEVLEGARASVDRVCRHNYEVAYRGILQRRVEPTVTISPSRTEALNHHNLLICSVTDFYPSQIKVRWFRNDQEETAGVVSTPLIRNGDWTFQILVMLEMTPQRGDV\", \"SWKKSLRIPGDLRVATVTLMLAILSSSLAEGRDSPFVYQFKGLCYFTNGTERVRGVTRHIYNREEYVRFDSDVGVYRAVTPQGRPVAEYWNSQKEVLEGARASVDRVCRHNYEVAYRGILQRRVEPTVTISPSRTEALNHHNLLICSVTDFYPSVRWFRNDQEETAGVVSTPLINGDWTFQILVMLEMTPQR\")\n",
    "print(format(alignments[0], 'fasta'))\n",
    "sequences = format(alignments[0], 'fasta').split('\\n')\n",
    "sequence1 = sequences[1]\n",
    "sequence2 = sequences[3]\n",
    "print(generate_cigar(sequence1, sequence2))\n"
   ]
  }
 ],
 "metadata": {
  "kernelspec": {
   "display_name": "Python 3",
   "language": "python",
   "name": "python3"
  },
  "language_info": {
   "codemirror_mode": {
    "name": "ipython",
    "version": 3
   },
   "file_extension": ".py",
   "mimetype": "text/x-python",
   "name": "python",
   "nbconvert_exporter": "python",
   "pygments_lexer": "ipython3",
   "version": "3.12.4"
  }
 },
 "nbformat": 4,
 "nbformat_minor": 2
}
