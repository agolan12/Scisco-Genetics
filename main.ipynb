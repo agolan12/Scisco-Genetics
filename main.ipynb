{
 "cells": [
  {
   "cell_type": "code",
   "execution_count": 2,
   "metadata": {},
   "outputs": [
    {
     "ename": "ImportError",
     "evalue": "cannot import name 'file_diff' from 'file_reader' (/Users/Assaf/Scisco-Genetics/file_reader.py)",
     "output_type": "error",
     "traceback": [
      "\u001b[0;31m---------------------------------------------------------------------------\u001b[0m",
      "\u001b[0;31mImportError\u001b[0m                               Traceback (most recent call last)",
      "Cell \u001b[0;32mIn[2], line 5\u001b[0m\n\u001b[1;32m      3\u001b[0m \u001b[38;5;28;01mfrom\u001b[39;00m \u001b[38;5;21;01mfile_reader\u001b[39;00m \u001b[38;5;28;01mimport\u001b[39;00m directory_diff\n\u001b[1;32m      4\u001b[0m \u001b[38;5;28;01mfrom\u001b[39;00m \u001b[38;5;21;01mfile_reader\u001b[39;00m \u001b[38;5;28;01mimport\u001b[39;00m directory_intersection\n\u001b[0;32m----> 5\u001b[0m \u001b[38;5;28;01mfrom\u001b[39;00m \u001b[38;5;21;01mfile_reader\u001b[39;00m \u001b[38;5;28;01mimport\u001b[39;00m file_diff\n\u001b[1;32m      6\u001b[0m \u001b[38;5;28;01mfrom\u001b[39;00m \u001b[38;5;21;01mfile_reader\u001b[39;00m \u001b[38;5;28;01mimport\u001b[39;00m same_file\n\u001b[1;32m      8\u001b[0m \u001b[38;5;28mprint\u001b[39m(\u001b[38;5;124m'\u001b[39m\u001b[38;5;124mdifferences: \u001b[39m\u001b[38;5;124m'\u001b[39m)\n",
      "\u001b[0;31mImportError\u001b[0m: cannot import name 'file_diff' from 'file_reader' (/Users/Assaf/Scisco-Genetics/file_reader.py)"
     ]
    }
   ],
   "source": [
    "import os\n",
    "\n",
    "from file_reader import directory_diff\n",
    "from file_reader import directory_intersection\n",
    "from file_reader import file_diff\n",
    "from file_reader import same_file\n",
    "\n",
    "print('differences: ')\n",
    "print(directory_diff('/Users/Assaf/IMGTHLA/fasta', 'fasta_copy'))\n",
    "print('intersection: ')\n",
    "directory_intersection('/Users/Assaf/IMGTHLA/fasta', 'fasta_copy')\n",
    "\n",
    "for file in directory_intersection('/Users/Assaf/IMGTHLA/fasta', 'fasta_copy'):\n",
    "    if (not same_file(f'/Users/Assaf/IMGTHLA/fasta/{file}', f'fasta_copy/{file}')):\n",
    "        print(file)\n",
    "        file_diff(f'/Users/Assaf/IMGTHLA/fasta/{file}', f'fasta_copy/{file}')\n",
    "\n"
   ]
  },
  {
   "cell_type": "markdown",
   "metadata": {},
   "source": [
    "Compare files:"
   ]
  },
  {
   "cell_type": "code",
   "execution_count": null,
   "metadata": {},
   "outputs": [],
   "source": [
    "from file_reader import file_diff\n",
    "\n",
    "file_diff('/Users/Assaf/IMGTHLA/fasta/DRB1_gen.fasta', 'fasta_copy/DRB1_gen.fasta')\n"
   ]
  },
  {
   "cell_type": "code",
   "execution_count": 3,
   "metadata": {},
   "outputs": [],
   "source": [
    "from file_reader import allele_dict\n",
    "from file_reader import allele_diff\n",
    "from file_reader import allele_intersection\n",
    "from file_reader import allele_comparison\n",
    "\n",
    "# allele_diff('/Users/Assaf/IMGTHLA/fasta/DRB1_gen.fasta', 'fasta_copy/DRB1_gen.fasta')\n",
    "# allele_intersection('/Users/Assaf/IMGTHLA/fasta/DRB1_gen.fasta', 'fasta_copy/DRB1_gen.fasta')\n",
    "allele_comparison('/Users/Assaf/IMGTHLA/fasta/DRB1_gen.fasta', 'fasta_copy/DRB1_gen.fasta')\n"
   ]
  },
  {
   "cell_type": "code",
   "execution_count": 1,
   "metadata": {},
   "outputs": [
    {
     "name": "stdout",
     "output_type": "stream",
     "text": [
      "MSWKKSLRIPGDLRVATVTLMLAILSSSLAEGRDSPEDFVYQFKGLCYFTNGTERVRGVTRHIYNREEYVRFDSDVGVYRAVTPQGRPVAEYWNSQKEVLEGARASVDRVCRHNYEVAYRGILQRRVEPTVTISPSRTEALNHHNLLICSVTDFYPSQIKVRWFRNDQEETAGVVSTPLIRNGDWTFQILVMLEMTPQRGDV\n",
      "||||||||||||||||||||||||||||||||||||  |||||||||||||||||||||||||||||||||||||||||||||||||||||||||||||||||||||||||||||||||||||||||||||||||||||||||||||||||||||||   |||||||||||||||||||| ||||||||||||||||||   \n",
      "MSWKKSLRIPGDLRVATVTLMLAILSSSLAEGRDSP--FVYQFKGLCYFTNGTERVRGVTRHIYNREEYVRFDSDVGVYRAVTPQGRPVAEYWNSQKEVLEGARASVDRVCRHNYEVAYRGILQRRVEPTVTISPSRTEALNHHNLLICSVTDFYPS---VRWFRNDQEETAGVVSTPLI-NGDWTFQILVMLEMTPQR---\n",
      "  Score=193\n",
      "\n"
     ]
    },
    {
     "name": "stderr",
     "output_type": "stream",
     "text": [
      "/Library/Frameworks/Python.framework/Versions/3.12/lib/python3.12/site-packages/Bio/pairwise2.py:278: BiopythonDeprecationWarning: Bio.pairwise2 has been deprecated, and we intend to remove it in a future release of Biopython. As an alternative, please consider using Bio.Align.PairwiseAligner as a replacement, and contact the Biopython developers if you still need the Bio.pairwise2 module.\n",
      "  warnings.warn(\n"
     ]
    }
   ],
   "source": [
    "from Bio import pairwise2\n",
    "from Bio.pairwise2 import format_alignment\n",
    "\n",
    "alignments = pairwise2.align.globalxx(\"MSWKKSLRIPGDLRVATVTLMLAILSSSLAEGRDSPEDFVYQFKGLCYFTNGTERVRGVTRHIYNREEYVRFDSDVGVYRAVTPQGRPVAEYWNSQKEVLEGARASVDRVCRHNYEVAYRGILQRRVEPTVTISPSRTEALNHHNLLICSVTDFYPSQIKVRWFRNDQEETAGVVSTPLIRNGDWTFQILVMLEMTPQRGDV\", \"MSWKKSLRIPGDLRVATVTLMLAILSSSLAEGRDSPFVYQFKGLCYFTNGTERVRGVTRHIYNREEYVRFDSDVGVYRAVTPQGRPVAEYWNSQKEVLEGARASVDRVCRHNYEVAYRGILQRRVEPTVTISPSRTEALNHHNLLICSVTDFYPSVRWFRNDQEETAGVVSTPLINGDWTFQILVMLEMTPQR\")\n",
    "print(format_alignment(*alignments[0]))"
   ]
  }
 ],
 "metadata": {
  "kernelspec": {
   "display_name": "Python 3",
   "language": "python",
   "name": "python3"
  },
  "language_info": {
   "codemirror_mode": {
    "name": "ipython",
    "version": 3
   },
   "file_extension": ".py",
   "mimetype": "text/x-python",
   "name": "python",
   "nbconvert_exporter": "python",
   "pygments_lexer": "ipython3",
   "version": "3.12.4"
  }
 },
 "nbformat": 4,
 "nbformat_minor": 2
}
